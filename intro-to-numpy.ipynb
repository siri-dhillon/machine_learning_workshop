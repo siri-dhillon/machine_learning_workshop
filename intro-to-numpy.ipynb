{
 "cells": [
  {
   "cell_type": "markdown",
   "metadata": {},
   "source": [
    "# Introduction to NumPy - Part 1"
   ]
  },
  {
   "cell_type": "code",
   "execution_count": 2,
   "metadata": {},
   "outputs": [],
   "source": [
    "import numpy as np"
   ]
  },
  {
   "cell_type": "markdown",
   "metadata": {},
   "source": [
    "Numpy Arrays"
   ]
  },
  {
   "cell_type": "code",
   "execution_count": 3,
   "metadata": {},
   "outputs": [
    {
     "name": "stdout",
     "output_type": "stream",
     "text": [
      "Vector:\n",
      " [1 2 3 4 5]\n",
      "Shape: (5,)\n",
      "Data Type: int64\n",
      "\n",
      "Matrix:\n",
      " [[1 2]\n",
      " [3 4]\n",
      " [5 6]]\n",
      "Shape: (3, 2)\n",
      "\n",
      "Tensor:\n",
      " [[[1 2]\n",
      "  [3 4]]\n",
      "\n",
      " [[5 6]\n",
      "  [7 8]]]\n",
      "Shape: (2, 2, 2)\n"
     ]
    }
   ],
   "source": [
    "# Creating 1D arrays (Vectors)\n",
    "vector = np.array([1, 2, 3, 4, 5])\n",
    "print(\"Vector:\\n\", vector)\n",
    "print(\"Shape:\", vector.shape)\n",
    "print(\"Data Type:\", vector.dtype)\n",
    "\n",
    "# Creating 2D arrays (Matrices)\n",
    "matrix = np.array([[1, 2], [3, 4], [5, 6]])\n",
    "print(\"\\nMatrix:\\n\", matrix)\n",
    "print(\"Shape:\", matrix.shape)\n",
    "\n",
    "# Creating higher-dimensional arrays (Tensors)\n",
    "tensor = np.array([[[1, 2], [3, 4]], [[5, 6], [7, 8]]])\n",
    "print(\"\\nTensor:\\n\", tensor)\n",
    "print(\"Shape:\", tensor.shape) # (2, 2, 2) - Think of it as 2 matrices of 2x2"
   ]
  },
  {
   "cell_type": "markdown",
   "metadata": {},
   "source": [
    "### Zeros, Ones and Random Array"
   ]
  },
  {
   "cell_type": "markdown",
   "metadata": {},
   "source": []
  },
  {
   "cell_type": "code",
   "execution_count": 4,
   "metadata": {},
   "outputs": [
    {
     "name": "stdout",
     "output_type": "stream",
     "text": [
      "\n",
      "Zeros:\n",
      " [[0. 0. 0.]\n",
      " [0. 0. 0.]]\n",
      "\n",
      "Ones:\n",
      " [[1. 1.]\n",
      " [1. 1.]\n",
      " [1. 1.]]\n",
      "\n",
      "Random:\n",
      " [[0.67964365 0.46048413]\n",
      " [0.30381017 0.83979285]]\n"
     ]
    }
   ],
   "source": [
    "zeros = np.zeros((2, 3))\n",
    "print(\"\\nZeros:\\n\", zeros)\n",
    "\n",
    "ones = np.ones((3, 2))\n",
    "print(\"\\nOnes:\\n\", ones)\n",
    "\n",
    "random_numbers = np.random.rand(2, 2) # Values between 0 and 1\n",
    "print(\"\\nRandom:\\n\", random_numbers)"
   ]
  },
  {
   "cell_type": "markdown",
   "metadata": {},
   "source": [
    "Reshaping and Broadcasting!"
   ]
  }
 ],
 "metadata": {
  "kernelspec": {
   "display_name": "Python 3",
   "language": "python",
   "name": "python3"
  },
  "language_info": {
   "codemirror_mode": {
    "name": "ipython",
    "version": 3
   },
   "file_extension": ".py",
   "mimetype": "text/x-python",
   "name": "python",
   "nbconvert_exporter": "python",
   "pygments_lexer": "ipython3",
   "version": "3.13.2"
  }
 },
 "nbformat": 4,
 "nbformat_minor": 2
}
